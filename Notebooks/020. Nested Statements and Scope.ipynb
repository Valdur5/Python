{
 "cells": [
  {
   "cell_type": "markdown",
   "metadata": {},
   "source": [
    "# Nested Statements and Scope"
   ]
  },
  {
   "cell_type": "markdown",
   "metadata": {},
   "source": [
    "There are different Scopes in Python:\n",
    "\n",
    "* Local Scope - Names assigned in any way within a function (def or lambda) and not declared global in that function.\n",
    "* Enclosing function locals - Name in the local scope of any and all enclosing functions (def or lambda), from inner to outer\n",
    "* Global Scope (module) - Names assigned at the top-level of a module file, or declared global in a def within the file.\n",
    "* Built-in (Python) - Names preassigned in the built-in names module: open, range, SyntaxError, ..."
   ]
  },
  {
   "cell_type": "code",
   "execution_count": 6,
   "metadata": {},
   "outputs": [
    {
     "name": "stdout",
     "output_type": "stream",
     "text": [
      "25\n",
      "50\n"
     ]
    }
   ],
   "source": [
    "x = 25 # GLOBAL SCOPE\n",
    "\n",
    "def printer():\n",
    "    # This does not override the x from the enclosing context.\n",
    "    x = 50 # LOCAL SCOPE\n",
    "    print(x)\n",
    "\n",
    "print(x)\n",
    "printer()"
   ]
  },
  {
   "cell_type": "code",
   "execution_count": 5,
   "metadata": {},
   "outputs": [
    {
     "name": "stdout",
     "output_type": "stream",
     "text": [
      "25\n",
      "25\n"
     ]
    }
   ],
   "source": [
    "x = 25 # GLOBAL SCOPE\n",
    "\n",
    "def printer():\n",
    "    # Even if i don't define x here i have access to the x from the encosing context.\n",
    "    print(x) # No LOCAL or ENCLOSING SCOPE FOUND -> USING GLOBAL SCOPE\n",
    "print(x)\n",
    "printer()"
   ]
  },
  {
   "cell_type": "code",
   "execution_count": 4,
   "metadata": {
    "collapsed": true
   },
   "outputs": [],
   "source": [
    "f = lambda x: x**2 # x is local scope"
   ]
  },
  {
   "cell_type": "code",
   "execution_count": 10,
   "metadata": {},
   "outputs": [
    {
     "name": "stdout",
     "output_type": "stream",
     "text": [
      "Hello Sammy\n"
     ]
    }
   ],
   "source": [
    "name = \"This is global name\" # GLOBAL SCOPE\n",
    "\n",
    "def greet():\n",
    "    name = \"Sammy\" # ENCLOSING SCOPE\n",
    "    \n",
    "    def hello():\n",
    "        print(\"Hello \" + name) \n",
    "        # No LOCAL SCOPE found but ENCLOSING SCOPE -> ENCLOSING SCOPE IS USED BEFORE GLOBAL SCOPE\n",
    "    \n",
    "    hello()\n",
    "\n",
    "greet()"
   ]
  },
  {
   "cell_type": "code",
   "execution_count": 11,
   "metadata": {},
   "outputs": [
    {
     "name": "stdout",
     "output_type": "stream",
     "text": [
      "This is global name\n"
     ]
    }
   ],
   "source": [
    "print(name)"
   ]
  },
  {
   "cell_type": "code",
   "execution_count": 13,
   "metadata": {},
   "outputs": [
    {
     "data": {
      "text/plain": [
       "<function len>"
      ]
     },
     "execution_count": 13,
     "metadata": {},
     "output_type": "execute_result"
    }
   ],
   "source": [
    "len # BUILD IN SCOPE"
   ]
  },
  {
   "cell_type": "code",
   "execution_count": 14,
   "metadata": {},
   "outputs": [
    {
     "name": "stdout",
     "output_type": "stream",
     "text": [
      "x is 50\n",
      "Changed local x to 2\n",
      "x is still 50\n"
     ]
    }
   ],
   "source": [
    "# Even if we change a global variable localy the global value does not change\n",
    "\n",
    "x = 50\n",
    "\n",
    "def func(x):\n",
    "    print(\"x is\",x)\n",
    "    x = 2\n",
    "    print(\"Changed local x to\", x)\n",
    "\n",
    "func(x)\n",
    "print(\"x is still\", x)"
   ]
  },
  {
   "cell_type": "code",
   "execution_count": 15,
   "metadata": {},
   "outputs": [
    {
     "name": "stdout",
     "output_type": "stream",
     "text": [
      "Before calling func() x is 50\n",
      "This function is now using the global x!\n",
      "Because of global x is: 50\n",
      "Run func(), changed global x to 2\n",
      "After calling func() x is 2\n"
     ]
    }
   ],
   "source": [
    "# Changing the global variable works like that BAD PRACTICE!\n",
    "\n",
    "x = 50\n",
    "\n",
    "def func():\n",
    "    global x\n",
    "    print(\"This function is now using the global x!\")\n",
    "    print(\"Because of global x is:\", x)\n",
    "    x = 2\n",
    "    print(\"Run func(), changed global x to\", x)\n",
    "    \n",
    "print(\"Before calling func() x is\",x)\n",
    "func()\n",
    "print(\"After calling func() x is\", x)"
   ]
  },
  {
   "cell_type": "code",
   "execution_count": 16,
   "metadata": {},
   "outputs": [
    {
     "data": {
      "text/plain": [
       "{'In': ['',\n",
       "  'x = 25\\n\\ndef printer():\\n    x = 50\\n    print(x)\\n\\nprint(x)\\nprinter()',\n",
       "  'x = 25\\n\\ndef printer():\\n    print(x)\\n\\nprint(x)\\nprinter()',\n",
       "  \"x = 25\\n\\ndef printer():\\n    #\\xa0Even if i don't define x here i have access to the x from the encosing context.\\n    print(x) # BECAUSE OF ENCLOSING FUNCTION LOCALS\\n\\nprint(x)\\nprinter()\",\n",
       "  'f = lambda x: x**2 # x is local scope',\n",
       "  \"x = 25 #\\xa0GLOBAL SCOPE\\n\\ndef printer():\\n    #\\xa0Even if i don't define x here i have access to the x from the encosing context.\\n    print(x) #\\xa0No LOCAL or ENCLOSING SCOPE FOUND -> USING GLOBAL SCOPE\\nprint(x)\\nprinter()\",\n",
       "  'x = 25 #\\xa0GLOBAL SCOPE\\n\\ndef printer():\\n    #\\xa0This does not override the x from the enclosing context.\\n    x = 50 #\\xa0LOCAL SCOPE\\n    print(x)\\n\\nprint(x)\\nprinter()',\n",
       "  'name = \"This is global name\" #\\xa0GLOBAL SCOPE\\n\\ndef greet():\\n    name = \"Sammy\" # ENCOSING SCOPE\\n    \\n    def hello():\\n        print(\"Hello \" + name) #\\xa0No LOCAL SCOPE found but ENCLOSING SCOPE -> ENCLOSING SCOPE IS USED BEFORE GLOBAL SCOPE',\n",
       "  'name = \"This is global name\" #\\xa0GLOBAL SCOPE\\n\\ndef greet():\\n    name = \"Sammy\" # ENCOSING SCOPE\\n    \\n    def hello():\\n        print(\"Hello \" + name) \\n        #\\xa0No LOCAL SCOPE found but ENCLOSING SCOPE -> ENCLOSING SCOPE IS USED BEFORE GLOBAL SCOPE',\n",
       "  'name = \"This is global name\" #\\xa0GLOBAL SCOPE\\n\\ndef greet():\\n    name = \"Sammy\" # ENCOSING SCOPE\\n    \\n    def hello():\\n        print(\"Hello \" + name) \\n        #\\xa0No LOCAL SCOPE found but ENCLOSING SCOPE -> ENCLOSING SCOPE IS USED BEFORE GLOBAL SCOPE\\n    \\n    hello()\\n\\ngreet()',\n",
       "  'name = \"This is global name\" #\\xa0GLOBAL SCOPE\\n\\ndef greet():\\n    name = \"Sammy\" # ENCLOSING SCOPE\\n    \\n    def hello():\\n        print(\"Hello \" + name) \\n        #\\xa0No LOCAL SCOPE found but ENCLOSING SCOPE -> ENCLOSING SCOPE IS USED BEFORE GLOBAL SCOPE\\n    \\n    hello()\\n\\ngreet()',\n",
       "  'print(name)',\n",
       "  'len ',\n",
       "  'len #\\xa0BUILD IN SCOPE',\n",
       "  '#\\xa0Even if we change a global variable localy the global value does not change\\n\\nx = 50\\n\\ndef func(x):\\n    print(\"x is\",x)\\n    x = 2\\n    print(\"Changed local x to\", x)\\n\\nfunc(x)\\nprint(\"x is still\", x)',\n",
       "  '# Changing the global variable works like that BAD PRACTICE!\\n\\nx = 50\\n\\ndef func():\\n    global x\\n    print(\"This function is now using the global x!\")\\n    print(\"Because of global x is:\", x)\\n    x = 2\\n    print(\"Run func(), changed global x to\", x)\\n    \\nprint(\"Before calling func() x is\",x)\\nfunc()\\nprint(\"After calling func() x is\", x)',\n",
       "  'globals()'],\n",
       " 'Out': {12: <function len>, 13: <function len>},\n",
       " '_': <function len>,\n",
       " '_12': <function len>,\n",
       " '_13': <function len>,\n",
       " '__': <function len>,\n",
       " '___': '',\n",
       " '__builtin__': <module 'builtins' (built-in)>,\n",
       " '__builtins__': <module 'builtins' (built-in)>,\n",
       " '__doc__': 'Automatically created module for IPython interactive environment',\n",
       " '__loader__': None,\n",
       " '__name__': '__main__',\n",
       " '__package__': None,\n",
       " '__spec__': None,\n",
       " '_dh': ['/Users/Valdur/Documents/Development/Projects/Python/Notebooks'],\n",
       " '_i': '# Changing the global variable works like that BAD PRACTICE!\\n\\nx = 50\\n\\ndef func():\\n    global x\\n    print(\"This function is now using the global x!\")\\n    print(\"Because of global x is:\", x)\\n    x = 2\\n    print(\"Run func(), changed global x to\", x)\\n    \\nprint(\"Before calling func() x is\",x)\\nfunc()\\nprint(\"After calling func() x is\", x)',\n",
       " '_i1': 'x = 25\\n\\ndef printer():\\n    x = 50\\n    print(x)\\n\\nprint(x)\\nprinter()',\n",
       " '_i10': 'name = \"This is global name\" #\\xa0GLOBAL SCOPE\\n\\ndef greet():\\n    name = \"Sammy\" # ENCLOSING SCOPE\\n    \\n    def hello():\\n        print(\"Hello \" + name) \\n        #\\xa0No LOCAL SCOPE found but ENCLOSING SCOPE -> ENCLOSING SCOPE IS USED BEFORE GLOBAL SCOPE\\n    \\n    hello()\\n\\ngreet()',\n",
       " '_i11': 'print(name)',\n",
       " '_i12': 'len ',\n",
       " '_i13': 'len #\\xa0BUILD IN SCOPE',\n",
       " '_i14': '#\\xa0Even if we change a global variable localy the global value does not change\\n\\nx = 50\\n\\ndef func(x):\\n    print(\"x is\",x)\\n    x = 2\\n    print(\"Changed local x to\", x)\\n\\nfunc(x)\\nprint(\"x is still\", x)',\n",
       " '_i15': '# Changing the global variable works like that BAD PRACTICE!\\n\\nx = 50\\n\\ndef func():\\n    global x\\n    print(\"This function is now using the global x!\")\\n    print(\"Because of global x is:\", x)\\n    x = 2\\n    print(\"Run func(), changed global x to\", x)\\n    \\nprint(\"Before calling func() x is\",x)\\nfunc()\\nprint(\"After calling func() x is\", x)',\n",
       " '_i16': 'globals()',\n",
       " '_i2': 'x = 25\\n\\ndef printer():\\n    print(x)\\n\\nprint(x)\\nprinter()',\n",
       " '_i3': \"x = 25\\n\\ndef printer():\\n    #\\xa0Even if i don't define x here i have access to the x from the encosing context.\\n    print(x) # BECAUSE OF ENCLOSING FUNCTION LOCALS\\n\\nprint(x)\\nprinter()\",\n",
       " '_i4': 'f = lambda x: x**2 # x is local scope',\n",
       " '_i5': \"x = 25 #\\xa0GLOBAL SCOPE\\n\\ndef printer():\\n    #\\xa0Even if i don't define x here i have access to the x from the encosing context.\\n    print(x) #\\xa0No LOCAL or ENCLOSING SCOPE FOUND -> USING GLOBAL SCOPE\\nprint(x)\\nprinter()\",\n",
       " '_i6': 'x = 25 #\\xa0GLOBAL SCOPE\\n\\ndef printer():\\n    #\\xa0This does not override the x from the enclosing context.\\n    x = 50 #\\xa0LOCAL SCOPE\\n    print(x)\\n\\nprint(x)\\nprinter()',\n",
       " '_i7': 'name = \"This is global name\" #\\xa0GLOBAL SCOPE\\n\\ndef greet():\\n    name = \"Sammy\" # ENCOSING SCOPE\\n    \\n    def hello():\\n        print(\"Hello \" + name) #\\xa0No LOCAL SCOPE found but ENCLOSING SCOPE -> ENCLOSING SCOPE IS USED BEFORE GLOBAL SCOPE',\n",
       " '_i8': 'name = \"This is global name\" #\\xa0GLOBAL SCOPE\\n\\ndef greet():\\n    name = \"Sammy\" # ENCOSING SCOPE\\n    \\n    def hello():\\n        print(\"Hello \" + name) \\n        #\\xa0No LOCAL SCOPE found but ENCLOSING SCOPE -> ENCLOSING SCOPE IS USED BEFORE GLOBAL SCOPE',\n",
       " '_i9': 'name = \"This is global name\" #\\xa0GLOBAL SCOPE\\n\\ndef greet():\\n    name = \"Sammy\" # ENCOSING SCOPE\\n    \\n    def hello():\\n        print(\"Hello \" + name) \\n        #\\xa0No LOCAL SCOPE found but ENCLOSING SCOPE -> ENCLOSING SCOPE IS USED BEFORE GLOBAL SCOPE\\n    \\n    hello()\\n\\ngreet()',\n",
       " '_ih': ['',\n",
       "  'x = 25\\n\\ndef printer():\\n    x = 50\\n    print(x)\\n\\nprint(x)\\nprinter()',\n",
       "  'x = 25\\n\\ndef printer():\\n    print(x)\\n\\nprint(x)\\nprinter()',\n",
       "  \"x = 25\\n\\ndef printer():\\n    #\\xa0Even if i don't define x here i have access to the x from the encosing context.\\n    print(x) # BECAUSE OF ENCLOSING FUNCTION LOCALS\\n\\nprint(x)\\nprinter()\",\n",
       "  'f = lambda x: x**2 # x is local scope',\n",
       "  \"x = 25 #\\xa0GLOBAL SCOPE\\n\\ndef printer():\\n    #\\xa0Even if i don't define x here i have access to the x from the encosing context.\\n    print(x) #\\xa0No LOCAL or ENCLOSING SCOPE FOUND -> USING GLOBAL SCOPE\\nprint(x)\\nprinter()\",\n",
       "  'x = 25 #\\xa0GLOBAL SCOPE\\n\\ndef printer():\\n    #\\xa0This does not override the x from the enclosing context.\\n    x = 50 #\\xa0LOCAL SCOPE\\n    print(x)\\n\\nprint(x)\\nprinter()',\n",
       "  'name = \"This is global name\" #\\xa0GLOBAL SCOPE\\n\\ndef greet():\\n    name = \"Sammy\" # ENCOSING SCOPE\\n    \\n    def hello():\\n        print(\"Hello \" + name) #\\xa0No LOCAL SCOPE found but ENCLOSING SCOPE -> ENCLOSING SCOPE IS USED BEFORE GLOBAL SCOPE',\n",
       "  'name = \"This is global name\" #\\xa0GLOBAL SCOPE\\n\\ndef greet():\\n    name = \"Sammy\" # ENCOSING SCOPE\\n    \\n    def hello():\\n        print(\"Hello \" + name) \\n        #\\xa0No LOCAL SCOPE found but ENCLOSING SCOPE -> ENCLOSING SCOPE IS USED BEFORE GLOBAL SCOPE',\n",
       "  'name = \"This is global name\" #\\xa0GLOBAL SCOPE\\n\\ndef greet():\\n    name = \"Sammy\" # ENCOSING SCOPE\\n    \\n    def hello():\\n        print(\"Hello \" + name) \\n        #\\xa0No LOCAL SCOPE found but ENCLOSING SCOPE -> ENCLOSING SCOPE IS USED BEFORE GLOBAL SCOPE\\n    \\n    hello()\\n\\ngreet()',\n",
       "  'name = \"This is global name\" #\\xa0GLOBAL SCOPE\\n\\ndef greet():\\n    name = \"Sammy\" # ENCLOSING SCOPE\\n    \\n    def hello():\\n        print(\"Hello \" + name) \\n        #\\xa0No LOCAL SCOPE found but ENCLOSING SCOPE -> ENCLOSING SCOPE IS USED BEFORE GLOBAL SCOPE\\n    \\n    hello()\\n\\ngreet()',\n",
       "  'print(name)',\n",
       "  'len ',\n",
       "  'len #\\xa0BUILD IN SCOPE',\n",
       "  '#\\xa0Even if we change a global variable localy the global value does not change\\n\\nx = 50\\n\\ndef func(x):\\n    print(\"x is\",x)\\n    x = 2\\n    print(\"Changed local x to\", x)\\n\\nfunc(x)\\nprint(\"x is still\", x)',\n",
       "  '# Changing the global variable works like that BAD PRACTICE!\\n\\nx = 50\\n\\ndef func():\\n    global x\\n    print(\"This function is now using the global x!\")\\n    print(\"Because of global x is:\", x)\\n    x = 2\\n    print(\"Run func(), changed global x to\", x)\\n    \\nprint(\"Before calling func() x is\",x)\\nfunc()\\nprint(\"After calling func() x is\", x)',\n",
       "  'globals()'],\n",
       " '_ii': '#\\xa0Even if we change a global variable localy the global value does not change\\n\\nx = 50\\n\\ndef func(x):\\n    print(\"x is\",x)\\n    x = 2\\n    print(\"Changed local x to\", x)\\n\\nfunc(x)\\nprint(\"x is still\", x)',\n",
       " '_iii': 'len #\\xa0BUILD IN SCOPE',\n",
       " '_oh': {12: <function len>, 13: <function len>},\n",
       " 'exit': <IPython.core.autocall.ZMQExitAutocall at 0x10dc03828>,\n",
       " 'f': <function __main__.<lambda>>,\n",
       " 'func': <function __main__.func>,\n",
       " 'get_ipython': <bound method InteractiveShell.get_ipython of <ipykernel.zmqshell.ZMQInteractiveShell object at 0x10d830320>>,\n",
       " 'greet': <function __main__.greet>,\n",
       " 'name': 'This is global name',\n",
       " 'printer': <function __main__.printer>,\n",
       " 'quit': <IPython.core.autocall.ZMQExitAutocall at 0x10dc03828>,\n",
       " 'x': 2}"
      ]
     },
     "execution_count": 16,
     "metadata": {},
     "output_type": "execute_result"
    }
   ],
   "source": [
    "globals()"
   ]
  },
  {
   "cell_type": "code",
   "execution_count": 17,
   "metadata": {},
   "outputs": [
    {
     "data": {
      "text/plain": [
       "{'In': ['',\n",
       "  'x = 25\\n\\ndef printer():\\n    x = 50\\n    print(x)\\n\\nprint(x)\\nprinter()',\n",
       "  'x = 25\\n\\ndef printer():\\n    print(x)\\n\\nprint(x)\\nprinter()',\n",
       "  \"x = 25\\n\\ndef printer():\\n    #\\xa0Even if i don't define x here i have access to the x from the encosing context.\\n    print(x) # BECAUSE OF ENCLOSING FUNCTION LOCALS\\n\\nprint(x)\\nprinter()\",\n",
       "  'f = lambda x: x**2 # x is local scope',\n",
       "  \"x = 25 #\\xa0GLOBAL SCOPE\\n\\ndef printer():\\n    #\\xa0Even if i don't define x here i have access to the x from the encosing context.\\n    print(x) #\\xa0No LOCAL or ENCLOSING SCOPE FOUND -> USING GLOBAL SCOPE\\nprint(x)\\nprinter()\",\n",
       "  'x = 25 #\\xa0GLOBAL SCOPE\\n\\ndef printer():\\n    #\\xa0This does not override the x from the enclosing context.\\n    x = 50 #\\xa0LOCAL SCOPE\\n    print(x)\\n\\nprint(x)\\nprinter()',\n",
       "  'name = \"This is global name\" #\\xa0GLOBAL SCOPE\\n\\ndef greet():\\n    name = \"Sammy\" # ENCOSING SCOPE\\n    \\n    def hello():\\n        print(\"Hello \" + name) #\\xa0No LOCAL SCOPE found but ENCLOSING SCOPE -> ENCLOSING SCOPE IS USED BEFORE GLOBAL SCOPE',\n",
       "  'name = \"This is global name\" #\\xa0GLOBAL SCOPE\\n\\ndef greet():\\n    name = \"Sammy\" # ENCOSING SCOPE\\n    \\n    def hello():\\n        print(\"Hello \" + name) \\n        #\\xa0No LOCAL SCOPE found but ENCLOSING SCOPE -> ENCLOSING SCOPE IS USED BEFORE GLOBAL SCOPE',\n",
       "  'name = \"This is global name\" #\\xa0GLOBAL SCOPE\\n\\ndef greet():\\n    name = \"Sammy\" # ENCOSING SCOPE\\n    \\n    def hello():\\n        print(\"Hello \" + name) \\n        #\\xa0No LOCAL SCOPE found but ENCLOSING SCOPE -> ENCLOSING SCOPE IS USED BEFORE GLOBAL SCOPE\\n    \\n    hello()\\n\\ngreet()',\n",
       "  'name = \"This is global name\" #\\xa0GLOBAL SCOPE\\n\\ndef greet():\\n    name = \"Sammy\" # ENCLOSING SCOPE\\n    \\n    def hello():\\n        print(\"Hello \" + name) \\n        #\\xa0No LOCAL SCOPE found but ENCLOSING SCOPE -> ENCLOSING SCOPE IS USED BEFORE GLOBAL SCOPE\\n    \\n    hello()\\n\\ngreet()',\n",
       "  'print(name)',\n",
       "  'len ',\n",
       "  'len #\\xa0BUILD IN SCOPE',\n",
       "  '#\\xa0Even if we change a global variable localy the global value does not change\\n\\nx = 50\\n\\ndef func(x):\\n    print(\"x is\",x)\\n    x = 2\\n    print(\"Changed local x to\", x)\\n\\nfunc(x)\\nprint(\"x is still\", x)',\n",
       "  '# Changing the global variable works like that BAD PRACTICE!\\n\\nx = 50\\n\\ndef func():\\n    global x\\n    print(\"This function is now using the global x!\")\\n    print(\"Because of global x is:\", x)\\n    x = 2\\n    print(\"Run func(), changed global x to\", x)\\n    \\nprint(\"Before calling func() x is\",x)\\nfunc()\\nprint(\"After calling func() x is\", x)',\n",
       "  'globals()',\n",
       "  'locals()'],\n",
       " 'Out': {12: <function len>, 13: <function len>, 16: {...}},\n",
       " '_': {...},\n",
       " '_12': <function len>,\n",
       " '_13': <function len>,\n",
       " '_16': {...},\n",
       " '__': <function len>,\n",
       " '___': <function len>,\n",
       " '__builtin__': <module 'builtins' (built-in)>,\n",
       " '__builtins__': <module 'builtins' (built-in)>,\n",
       " '__doc__': 'Automatically created module for IPython interactive environment',\n",
       " '__loader__': None,\n",
       " '__name__': '__main__',\n",
       " '__package__': None,\n",
       " '__spec__': None,\n",
       " '_dh': ['/Users/Valdur/Documents/Development/Projects/Python/Notebooks'],\n",
       " '_i': 'globals()',\n",
       " '_i1': 'x = 25\\n\\ndef printer():\\n    x = 50\\n    print(x)\\n\\nprint(x)\\nprinter()',\n",
       " '_i10': 'name = \"This is global name\" #\\xa0GLOBAL SCOPE\\n\\ndef greet():\\n    name = \"Sammy\" # ENCLOSING SCOPE\\n    \\n    def hello():\\n        print(\"Hello \" + name) \\n        #\\xa0No LOCAL SCOPE found but ENCLOSING SCOPE -> ENCLOSING SCOPE IS USED BEFORE GLOBAL SCOPE\\n    \\n    hello()\\n\\ngreet()',\n",
       " '_i11': 'print(name)',\n",
       " '_i12': 'len ',\n",
       " '_i13': 'len #\\xa0BUILD IN SCOPE',\n",
       " '_i14': '#\\xa0Even if we change a global variable localy the global value does not change\\n\\nx = 50\\n\\ndef func(x):\\n    print(\"x is\",x)\\n    x = 2\\n    print(\"Changed local x to\", x)\\n\\nfunc(x)\\nprint(\"x is still\", x)',\n",
       " '_i15': '# Changing the global variable works like that BAD PRACTICE!\\n\\nx = 50\\n\\ndef func():\\n    global x\\n    print(\"This function is now using the global x!\")\\n    print(\"Because of global x is:\", x)\\n    x = 2\\n    print(\"Run func(), changed global x to\", x)\\n    \\nprint(\"Before calling func() x is\",x)\\nfunc()\\nprint(\"After calling func() x is\", x)',\n",
       " '_i16': 'globals()',\n",
       " '_i17': 'locals()',\n",
       " '_i2': 'x = 25\\n\\ndef printer():\\n    print(x)\\n\\nprint(x)\\nprinter()',\n",
       " '_i3': \"x = 25\\n\\ndef printer():\\n    #\\xa0Even if i don't define x here i have access to the x from the encosing context.\\n    print(x) # BECAUSE OF ENCLOSING FUNCTION LOCALS\\n\\nprint(x)\\nprinter()\",\n",
       " '_i4': 'f = lambda x: x**2 # x is local scope',\n",
       " '_i5': \"x = 25 #\\xa0GLOBAL SCOPE\\n\\ndef printer():\\n    #\\xa0Even if i don't define x here i have access to the x from the encosing context.\\n    print(x) #\\xa0No LOCAL or ENCLOSING SCOPE FOUND -> USING GLOBAL SCOPE\\nprint(x)\\nprinter()\",\n",
       " '_i6': 'x = 25 #\\xa0GLOBAL SCOPE\\n\\ndef printer():\\n    #\\xa0This does not override the x from the enclosing context.\\n    x = 50 #\\xa0LOCAL SCOPE\\n    print(x)\\n\\nprint(x)\\nprinter()',\n",
       " '_i7': 'name = \"This is global name\" #\\xa0GLOBAL SCOPE\\n\\ndef greet():\\n    name = \"Sammy\" # ENCOSING SCOPE\\n    \\n    def hello():\\n        print(\"Hello \" + name) #\\xa0No LOCAL SCOPE found but ENCLOSING SCOPE -> ENCLOSING SCOPE IS USED BEFORE GLOBAL SCOPE',\n",
       " '_i8': 'name = \"This is global name\" #\\xa0GLOBAL SCOPE\\n\\ndef greet():\\n    name = \"Sammy\" # ENCOSING SCOPE\\n    \\n    def hello():\\n        print(\"Hello \" + name) \\n        #\\xa0No LOCAL SCOPE found but ENCLOSING SCOPE -> ENCLOSING SCOPE IS USED BEFORE GLOBAL SCOPE',\n",
       " '_i9': 'name = \"This is global name\" #\\xa0GLOBAL SCOPE\\n\\ndef greet():\\n    name = \"Sammy\" # ENCOSING SCOPE\\n    \\n    def hello():\\n        print(\"Hello \" + name) \\n        #\\xa0No LOCAL SCOPE found but ENCLOSING SCOPE -> ENCLOSING SCOPE IS USED BEFORE GLOBAL SCOPE\\n    \\n    hello()\\n\\ngreet()',\n",
       " '_ih': ['',\n",
       "  'x = 25\\n\\ndef printer():\\n    x = 50\\n    print(x)\\n\\nprint(x)\\nprinter()',\n",
       "  'x = 25\\n\\ndef printer():\\n    print(x)\\n\\nprint(x)\\nprinter()',\n",
       "  \"x = 25\\n\\ndef printer():\\n    #\\xa0Even if i don't define x here i have access to the x from the encosing context.\\n    print(x) # BECAUSE OF ENCLOSING FUNCTION LOCALS\\n\\nprint(x)\\nprinter()\",\n",
       "  'f = lambda x: x**2 # x is local scope',\n",
       "  \"x = 25 #\\xa0GLOBAL SCOPE\\n\\ndef printer():\\n    #\\xa0Even if i don't define x here i have access to the x from the encosing context.\\n    print(x) #\\xa0No LOCAL or ENCLOSING SCOPE FOUND -> USING GLOBAL SCOPE\\nprint(x)\\nprinter()\",\n",
       "  'x = 25 #\\xa0GLOBAL SCOPE\\n\\ndef printer():\\n    #\\xa0This does not override the x from the enclosing context.\\n    x = 50 #\\xa0LOCAL SCOPE\\n    print(x)\\n\\nprint(x)\\nprinter()',\n",
       "  'name = \"This is global name\" #\\xa0GLOBAL SCOPE\\n\\ndef greet():\\n    name = \"Sammy\" # ENCOSING SCOPE\\n    \\n    def hello():\\n        print(\"Hello \" + name) #\\xa0No LOCAL SCOPE found but ENCLOSING SCOPE -> ENCLOSING SCOPE IS USED BEFORE GLOBAL SCOPE',\n",
       "  'name = \"This is global name\" #\\xa0GLOBAL SCOPE\\n\\ndef greet():\\n    name = \"Sammy\" # ENCOSING SCOPE\\n    \\n    def hello():\\n        print(\"Hello \" + name) \\n        #\\xa0No LOCAL SCOPE found but ENCLOSING SCOPE -> ENCLOSING SCOPE IS USED BEFORE GLOBAL SCOPE',\n",
       "  'name = \"This is global name\" #\\xa0GLOBAL SCOPE\\n\\ndef greet():\\n    name = \"Sammy\" # ENCOSING SCOPE\\n    \\n    def hello():\\n        print(\"Hello \" + name) \\n        #\\xa0No LOCAL SCOPE found but ENCLOSING SCOPE -> ENCLOSING SCOPE IS USED BEFORE GLOBAL SCOPE\\n    \\n    hello()\\n\\ngreet()',\n",
       "  'name = \"This is global name\" #\\xa0GLOBAL SCOPE\\n\\ndef greet():\\n    name = \"Sammy\" # ENCLOSING SCOPE\\n    \\n    def hello():\\n        print(\"Hello \" + name) \\n        #\\xa0No LOCAL SCOPE found but ENCLOSING SCOPE -> ENCLOSING SCOPE IS USED BEFORE GLOBAL SCOPE\\n    \\n    hello()\\n\\ngreet()',\n",
       "  'print(name)',\n",
       "  'len ',\n",
       "  'len #\\xa0BUILD IN SCOPE',\n",
       "  '#\\xa0Even if we change a global variable localy the global value does not change\\n\\nx = 50\\n\\ndef func(x):\\n    print(\"x is\",x)\\n    x = 2\\n    print(\"Changed local x to\", x)\\n\\nfunc(x)\\nprint(\"x is still\", x)',\n",
       "  '# Changing the global variable works like that BAD PRACTICE!\\n\\nx = 50\\n\\ndef func():\\n    global x\\n    print(\"This function is now using the global x!\")\\n    print(\"Because of global x is:\", x)\\n    x = 2\\n    print(\"Run func(), changed global x to\", x)\\n    \\nprint(\"Before calling func() x is\",x)\\nfunc()\\nprint(\"After calling func() x is\", x)',\n",
       "  'globals()',\n",
       "  'locals()'],\n",
       " '_ii': '# Changing the global variable works like that BAD PRACTICE!\\n\\nx = 50\\n\\ndef func():\\n    global x\\n    print(\"This function is now using the global x!\")\\n    print(\"Because of global x is:\", x)\\n    x = 2\\n    print(\"Run func(), changed global x to\", x)\\n    \\nprint(\"Before calling func() x is\",x)\\nfunc()\\nprint(\"After calling func() x is\", x)',\n",
       " '_iii': '#\\xa0Even if we change a global variable localy the global value does not change\\n\\nx = 50\\n\\ndef func(x):\\n    print(\"x is\",x)\\n    x = 2\\n    print(\"Changed local x to\", x)\\n\\nfunc(x)\\nprint(\"x is still\", x)',\n",
       " '_oh': {12: <function len>, 13: <function len>, 16: {...}},\n",
       " 'exit': <IPython.core.autocall.ZMQExitAutocall at 0x10dc03828>,\n",
       " 'f': <function __main__.<lambda>>,\n",
       " 'func': <function __main__.func>,\n",
       " 'get_ipython': <bound method InteractiveShell.get_ipython of <ipykernel.zmqshell.ZMQInteractiveShell object at 0x10d830320>>,\n",
       " 'greet': <function __main__.greet>,\n",
       " 'name': 'This is global name',\n",
       " 'printer': <function __main__.printer>,\n",
       " 'quit': <IPython.core.autocall.ZMQExitAutocall at 0x10dc03828>,\n",
       " 'x': 2}"
      ]
     },
     "execution_count": 17,
     "metadata": {},
     "output_type": "execute_result"
    }
   ],
   "source": [
    "locals()"
   ]
  },
  {
   "cell_type": "code",
   "execution_count": null,
   "metadata": {
    "collapsed": true
   },
   "outputs": [],
   "source": []
  }
 ],
 "metadata": {
  "kernelspec": {
   "display_name": "Python 3",
   "language": "python",
   "name": "python3"
  },
  "language_info": {
   "codemirror_mode": {
    "name": "ipython",
    "version": 3
   },
   "file_extension": ".py",
   "mimetype": "text/x-python",
   "name": "python",
   "nbconvert_exporter": "python",
   "pygments_lexer": "ipython3",
   "version": "3.6.3"
  }
 },
 "nbformat": 4,
 "nbformat_minor": 2
}
