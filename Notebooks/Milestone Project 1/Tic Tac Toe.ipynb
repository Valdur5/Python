{
 "cells": [
  {
   "cell_type": "markdown",
   "metadata": {},
   "source": [
    "# Tic Tac Toe"
   ]
  },
  {
   "cell_type": "code",
   "execution_count": 181,
   "metadata": {},
   "outputs": [],
   "source": [
    "def get_board_value_at(position):\n",
    "    position -= 1\n",
    "    return board[position//3][position%3]\n",
    "\n",
    "def player_input(current_player):\n",
    "    '''\n",
    "    Gets the next move from the player. This methods makes also sure that the player does not make an invalid move.\n",
    "    '''\n",
    "    \n",
    "    while True:\n",
    "        next_move = int(input(\"What is your next move player: {player}? (1-9)\".format(player = current_player)))\n",
    "        if next_move in range(1,10):\n",
    "            board_field = get_board_value_at(next_move)\n",
    "            if board_field == None:\n",
    "                return next_move\n",
    "            else:\n",
    "                print(\"This field is already occupied\")\n",
    "        else:\n",
    "            print(\"Your input must be in range of 1 to 9\")\n",
    "    \n",
    "def set_on_board(position, player):\n",
    "    position -= 1\n",
    "    board[position//3][position%3] = player\n",
    "    \n",
    "def game_over(player):\n",
    "    if check_row_column(0) or check_row_column(1) or check_row_column(2):\n",
    "        print(\"Player\",player,\"has won!!!\")\n",
    "        return True\n",
    "    return False\n",
    "\n",
    "def check_diagonal():\n",
    "    lt_to_rb_set = set([board[0][0],board[1][1],board[2][2]]);\n",
    "    lt_to_rb = len(lt_to_rb_set) == 1 and list(set(lt_to_rb_set))[0] != None\n",
    "    rt_to_lb_set = set([board[0][2],board[1][1],board[2][0]]);\n",
    "    rt_to_lb = len(rt_to_lb_set) == 1 and list(set(rt_to_lb_set))[0] != None\n",
    "    return lt_to_rb or rt_to_lb\n",
    "\n",
    "def column(matrix, i):\n",
    "    return [row[i] for row in matrix]\n",
    "\n",
    "def check_row_column(nr):\n",
    "    row = len(set(board[nr])) == 1 and list(set(board[nr]))[0] != None\n",
    "    col = len(set(column(board,nr))) == 1 and list(set(column(board,nr)))[0] != None\n",
    "    return row or col\n",
    "\n",
    "\n"
   ]
  },
  {
   "cell_type": "code",
   "execution_count": 186,
   "metadata": {},
   "outputs": [
    {
     "name": "stdout",
     "output_type": "stream",
     "text": [
      "What is your next move player: Red? (1-9)1\n",
      "What is your next move player: Blue? (1-9)4\n",
      "What is your next move player: Red? (1-9)2\n",
      "What is your next move player: Blue? (1-9)5\n",
      "What is your next move player: Red? (1-9)8\n",
      "What is your next move player: Blue? (1-9)6\n",
      "Player Blue has won!!!\n"
     ]
    }
   ],
   "source": [
    "# The initial round\n",
    "round = 0\n",
    "# Defining the initial state of the board.\n",
    "board = [[None,None,None],\n",
    "        [None,None,None],\n",
    "        [None,None,None]]\n",
    "# Defining the players\n",
    "players = [\"Red\", \"Blue\"]\n",
    "\n",
    "while round < 9:\n",
    "    current_player = players[round%2]\n",
    "    next_move = player_input(current_player)\n",
    "    set_on_board(next_move, current_player)\n",
    "    if game_over(current_player):\n",
    "        break\n",
    "    round += 1\n",
    "else:\n",
    "    print(\"No one has won!\")"
   ]
  },
  {
   "cell_type": "markdown",
   "metadata": {},
   "source": []
  }
 ],
 "metadata": {
  "kernelspec": {
   "display_name": "Python 3",
   "language": "python",
   "name": "python3"
  },
  "language_info": {
   "codemirror_mode": {
    "name": "ipython",
    "version": 3
   },
   "file_extension": ".py",
   "mimetype": "text/x-python",
   "name": "python",
   "nbconvert_exporter": "python",
   "pygments_lexer": "ipython3",
   "version": "3.6.3"
  }
 },
 "nbformat": 4,
 "nbformat_minor": 2
}
