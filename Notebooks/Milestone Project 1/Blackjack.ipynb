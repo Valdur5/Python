{
 "cells": [
  {
   "cell_type": "markdown",
   "metadata": {},
   "source": [
    "# Blackjack"
   ]
  },
  {
   "cell_type": "code",
   "execution_count": 131,
   "metadata": {},
   "outputs": [],
   "source": [
    "from random import randint\n",
    "\n",
    "class Player(object):\n",
    "    \n",
    "    def __init__(self, bankroll=100):\n",
    "        self.bankroll = bankroll\n",
    "        \n",
    "    def add_to_bankroll(self, amount):\n",
    "        if amount <= 0:\n",
    "            print(\"You can't add 0 or less to your bankroll\")\n",
    "        else:\n",
    "            self.bankroll += amount\n",
    "    \n",
    "    def sub_from_bankroll(self, amount):\n",
    "        if amount <= 0:\n",
    "            print(\"You can't substract 0 or less from your bankroll\")\n",
    "        else:\n",
    "            if self.bankroll - amount < 0:\n",
    "                print(\"The players bankroll is not sufficient enough for this operation!\")\n",
    "            else:\n",
    "                self.bankroll -= amount\n",
    "         \n",
    "class Card(object):\n",
    "    \n",
    "    def __init__(self, symbol, value):\n",
    "        self.symbol = symbol\n",
    "        self.value = value\n",
    "        \n",
    "    def get_values(self):\n",
    "        if self.value == \"Prince\" or self.value == \"Queen\" or self.value == \"King\":\n",
    "            return [10]\n",
    "        elif self.value == \"Ass\":\n",
    "            return [1,11]\n",
    "        else:\n",
    "            return [int(self.value)]\n",
    "        \n",
    "    def __str__(self):\n",
    "        return self.value + \" (\" + self.symbol + \")\"\n",
    "        \n",
    "        \n",
    "class CardDeck(object):\n",
    "    \n",
    "    def __init__(self):\n",
    "        self.cards = self.create_cards()\n",
    "        self.used_cards = []\n",
    "    \n",
    "    def mix(self):\n",
    "        self.used_cards = []\n",
    "    \n",
    "    def draw_card(self):\n",
    "        while True:\n",
    "            random_index = randint(0, len(self.cards)-1)\n",
    "            if random_index in self.used_cards:\n",
    "                if len(self.used_cards) == len(self.cards):\n",
    "                    print(\"There are no cards left to be drawn!\")\n",
    "                    break\n",
    "                else:\n",
    "                    continue\n",
    "            else:\n",
    "                self.used_cards.append(random_index)\n",
    "                return self.cards[random_index]\n",
    "    \n",
    "    def create_cards(self):\n",
    "        cards = []\n",
    "        symbols = [\"Heart\", \"Caro\", \"Pike\", \"Cross\"]\n",
    "        for symbol in symbols:\n",
    "            values = [\"2\",\"3\",\"4\",\"5\",\"6\",\"7\",\"8\",\"9\",\"10\",\"Prince\",\"Queen\",\"King\",\"Ass\"]\n",
    "            for value in values:\n",
    "                cards.append(Card(symbol,value))\n",
    "        return cards\n",
    "    \n",
    "        \n",
    "class Dealer(object):\n",
    "    \n",
    "    def __init__(self):\n",
    "        pass\n",
    "        \n",
    "        "
   ]
  },
  {
   "cell_type": "code",
   "execution_count": null,
   "metadata": {
    "collapsed": true
   },
   "outputs": [],
   "source": []
  }
 ],
 "metadata": {
  "kernelspec": {
   "display_name": "Python 3",
   "language": "python",
   "name": "python3"
  },
  "language_info": {
   "codemirror_mode": {
    "name": "ipython",
    "version": 3
   },
   "file_extension": ".py",
   "mimetype": "text/x-python",
   "name": "python",
   "nbconvert_exporter": "python",
   "pygments_lexer": "ipython3",
   "version": "3.6.3"
  }
 },
 "nbformat": 4,
 "nbformat_minor": 2
}
