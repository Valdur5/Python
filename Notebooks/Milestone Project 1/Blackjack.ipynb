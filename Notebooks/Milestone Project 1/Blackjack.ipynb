{
 "cells": [
  {
   "cell_type": "markdown",
   "metadata": {},
   "source": [
    "# Blackjack"
   ]
  },
  {
   "cell_type": "code",
   "execution_count": 3,
   "metadata": {},
   "outputs": [],
   "source": [
    "from random import randint\n",
    "from abc import ABCMeta, abstractmethod\n",
    "\n",
    "class Player(object):\n",
    "    \n",
    "    __metaclass__ = ABCMeta\n",
    "    \n",
    "    def __init__(self, hand, bankroll=100):\n",
    "        self.hand = hand\n",
    "        self.bankroll = bankroll\n",
    "        \n",
    "    def get_hand(self):\n",
    "        return self.hand\n",
    "        \n",
    "    def get_bankroll(self):\n",
    "        return self.bankroll\n",
    "    \n",
    "    def add_to_bankroll(self, amount):\n",
    "        if amount <= 0:\n",
    "            print(\"You can't add 0 or less to your bankroll\")\n",
    "        else:\n",
    "            self.bankroll += amount\n",
    "    \n",
    "    def sub_from_bankroll(self, amount):\n",
    "        if amount <= 0:\n",
    "            print(\"You can't substract 0 or less from your bankroll\")\n",
    "        else:\n",
    "            if self.bankroll - amount < 0:\n",
    "                print(\"The players bankroll is not sufficient enough for this operation!\")\n",
    "            else:\n",
    "                self.bankroll -= amount\n",
    "                \n",
    "    @abstractmethod\n",
    "    def next_move(self):\n",
    "        pass\n",
    "         \n",
    "class Card(object):\n",
    "    \n",
    "    def __init__(self, symbol, value):\n",
    "        self.symbol = symbol\n",
    "        self.value = value\n",
    "        \n",
    "    def get_values(self):\n",
    "        if self.value == \"Prince\" or self.value == \"Queen\" or self.value == \"King\":\n",
    "            return [10]\n",
    "        elif self.value == \"Ass\":\n",
    "            return [1,11]\n",
    "        else:\n",
    "            return [int(self.value)]\n",
    "        \n",
    "    def __str__(self):\n",
    "        return self.value + \" (\" + self.symbol + \")\"\n",
    "        \n",
    "        \n",
    "class CardDeck(object):\n",
    "    \n",
    "    def __init__(self):\n",
    "        self.cards = self.create_cards()\n",
    "        self.used_cards = []\n",
    "    \n",
    "    def mix(self):\n",
    "        self.used_cards = []\n",
    "    \n",
    "    def draw_card(self):\n",
    "        while True:\n",
    "            random_index = randint(0, len(self.cards)-1)\n",
    "            if random_index in self.used_cards:\n",
    "                if len(self.used_cards) == len(self.cards):\n",
    "                    print(\"There are no cards left to be drawn!\")\n",
    "                    break\n",
    "                else:\n",
    "                    continue\n",
    "            else:\n",
    "                self.used_cards.append(random_index)\n",
    "                return self.cards[random_index]\n",
    "    \n",
    "    def create_cards(self):\n",
    "        cards = []\n",
    "        symbols = [\"Heart\", \"Caro\", \"Pike\", \"Cross\"]\n",
    "        for symbol in symbols:\n",
    "            values = [\"2\",\"3\",\"4\",\"5\",\"6\",\"7\",\"8\",\"9\",\"10\",\"Prince\",\"Queen\",\"King\",\"Ass\"]\n",
    "            for value in values:\n",
    "                cards.append(Card(symbol,value))\n",
    "        return cards\n",
    "    \n",
    "class Hand(object):\n",
    "    def __init__(self, cards):\n",
    "        self.cards = cards\n",
    "            \n",
    "    def get_card_values(self):\n",
    "        fix_value = 0\n",
    "        for card in self.cards:\n",
    "            if len(card.get_values()) == 1:\n",
    "                fix_value += card.get_values()[0]\n",
    "                \n",
    "        variable_values = []\n",
    "        for card in self.cards:\n",
    "            if len(card.get_values()) > 1:\n",
    "                for value in card.get_values():\n",
    "                    variable_values.append(fix_value+value)\n",
    "                \n",
    "        if len(variable_values) == 0:\n",
    "            variable_values.append(fix_value)\n",
    "            \n",
    "        return variable_values\n",
    "            \n",
    "    def get_lowest_value(self):\n",
    "        values = self.get_card_values()\n",
    "        if len(values) > 1:\n",
    "            values = values.sort()\n",
    "        return values[0]\n",
    "        \n",
    "    def add_card(self, card):\n",
    "        self.cards.append(card)\n",
    "        \n",
    "    def __str__(self):\n",
    "        card_string = \"\"\n",
    "        for card in self.cards:\n",
    "            card_string += card.__str__() + \" \"\n",
    "        card_string += \" with the values \"\n",
    "        for value in self.get_card_values():\n",
    "            card_string = card_string +\"{x} \".format(x=value)\n",
    "        return card_string\n",
    "        \n",
    "class Dealer(Player):\n",
    "    def next_move(self):\n",
    "        return True\n",
    "        \n",
    "class Customer(Player):\n",
    "    def next_move(self):\n",
    "        while True:\n",
    "            print(\"It's your turn you already have:\", self.get_hand())\n",
    "            inp = input(\"Another card does not hurt right? (y/n) \")\n",
    "            if inp == \"y\":\n",
    "                return True\n",
    "            elif inp == \"n\":\n",
    "                return False\n",
    "            else:\n",
    "                print(\"Huh?\")\n",
    "        "
   ]
  },
  {
   "cell_type": "code",
   "execution_count": 233,
   "metadata": {},
   "outputs": [],
   "source": [
    "p = Customer([Card(\"Heart\",\"Ass\"),Card(\"Caro\",\"2\"),Card(\"Caro\",\"Queen\")])"
   ]
  },
  {
   "cell_type": "code",
   "execution_count": 214,
   "metadata": {},
   "outputs": [
    {
     "name": "stdout",
     "output_type": "stream",
     "text": [
      "It's your turn you already have: \n",
      "Another card does not hurt right? (y/n) y\n"
     ]
    },
    {
     "data": {
      "text/plain": [
       "True"
      ]
     },
     "execution_count": 214,
     "metadata": {},
     "output_type": "execute_result"
    }
   ],
   "source": [
    "p.next_move()"
   ]
  },
  {
   "cell_type": "code",
   "execution_count": 216,
   "metadata": {},
   "outputs": [
    {
     "data": {
      "text/plain": [
       "[<__main__.Card at 0x1098dd780>,\n",
       " <__main__.Card at 0x1098ddda0>,\n",
       " <__main__.Card at 0x1098ddb70>]"
      ]
     },
     "execution_count": 216,
     "metadata": {},
     "output_type": "execute_result"
    }
   ],
   "source": [
    "p.get_hand()"
   ]
  },
  {
   "cell_type": "code",
   "execution_count": 178,
   "metadata": {},
   "outputs": [
    {
     "data": {
      "text/plain": [
       "100"
      ]
     },
     "execution_count": 178,
     "metadata": {},
     "output_type": "execute_result"
    }
   ],
   "source": [
    "p.get_bankroll()"
   ]
  },
  {
   "cell_type": "code",
   "execution_count": 4,
   "metadata": {},
   "outputs": [
    {
     "name": "stdout",
     "output_type": "stream",
     "text": [
      "It's your turn you already have: Queen (Pike) 7 (Cross)  with the values 17 \n",
      "Another card does not hurt right? (y/n) n\n",
      "Dealer is taking a card...\n",
      "The Dealer messed up with 23 ! You have won!\n"
     ]
    }
   ],
   "source": [
    "card_deck = CardDeck()\n",
    "dealer = Dealer(Hand([card_deck.draw_card(),card_deck.draw_card()]))\n",
    "customer = Customer(Hand([card_deck.draw_card(),card_deck.draw_card()]))\n",
    "\n",
    "if customer.next_move() == True:\n",
    "    print(\"Taking card...\")\n",
    "    customer.get_hand().add_card(card_deck.draw_card())\n",
    "    if customer.get_hand().get_lowest_value() > 21:\n",
    "        print(\"You are busted with\",customer.get_hand().get_lowest_value(),\"! Dealer has won!\")\n",
    "if dealer.next_move() == True:\n",
    "    print(\"Dealer is taking a card...\")\n",
    "    dealer.get_hand().add_card(card_deck.draw_card())\n",
    "    if dealer.get_hand().get_lowest_value() > 21:\n",
    "        print(\"The Dealer messed up with\",dealer.get_hand().get_lowest_value(),\"! You have won!\")"
   ]
  },
  {
   "cell_type": "code",
   "execution_count": 227,
   "metadata": {},
   "outputs": [
    {
     "ename": "AttributeError",
     "evalue": "'Customer' object has no attribute 'get_card_values'",
     "output_type": "error",
     "traceback": [
      "\u001b[0;31m---------------------------------------------------------------------------\u001b[0m",
      "\u001b[0;31mAttributeError\u001b[0m                            Traceback (most recent call last)",
      "\u001b[0;32m<ipython-input-227-6ebb8a0a95c8>\u001b[0m in \u001b[0;36m<module>\u001b[0;34m()\u001b[0m\n\u001b[0;32m----> 1\u001b[0;31m \u001b[0mcustomer\u001b[0m\u001b[0;34m.\u001b[0m\u001b[0mget_card_values\u001b[0m\u001b[0;34m(\u001b[0m\u001b[0;34m)\u001b[0m\u001b[0;34m\u001b[0m\u001b[0m\n\u001b[0m",
      "\u001b[0;31mAttributeError\u001b[0m: 'Customer' object has no attribute 'get_card_values'"
     ]
    }
   ],
   "source": [
    "customer.get_card_values()"
   ]
  },
  {
   "cell_type": "code",
   "execution_count": null,
   "metadata": {
    "collapsed": true
   },
   "outputs": [],
   "source": []
  }
 ],
 "metadata": {
  "kernelspec": {
   "display_name": "Python 3",
   "language": "python",
   "name": "python3"
  },
  "language_info": {
   "codemirror_mode": {
    "name": "ipython",
    "version": 3
   },
   "file_extension": ".py",
   "mimetype": "text/x-python",
   "name": "python",
   "nbconvert_exporter": "python",
   "pygments_lexer": "ipython3",
   "version": "3.6.3"
  }
 },
 "nbformat": 4,
 "nbformat_minor": 2
}
